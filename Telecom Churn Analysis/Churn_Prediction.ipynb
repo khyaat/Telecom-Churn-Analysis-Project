{
 "cells": [
  {
   "cell_type": "code",
   "execution_count": 4,
   "id": "3dcc1cd0",
   "metadata": {},
   "outputs": [],
   "source": [
    "import pandas as pd\n",
    "\n",
    "import numpy as np\n",
    "\n",
    "import matplotlib.pyplot as plt\n",
    "\n",
    "import seaborn as sns\n",
    "\n",
    "from sklearn.model_selection import train_test_split\n",
    "\n",
    "from sklearn.ensemble import RandomForestClassifier\n",
    "\n",
    "from sklearn.metrics import classification_report, confusion_matrix\n",
    "\n",
    "from sklearn.preprocessing import LabelEncoder \n",
    "\n",
    "import joblib"
   ]
  },
  {
   "cell_type": "code",
   "execution_count": 7,
   "id": "bb8765bd",
   "metadata": {},
   "outputs": [
    {
     "name": "stdout",
     "output_type": "stream",
     "text": [
      "  Customer_ID  Gender  Age Married           State  Number_of_Referrals  \\\n",
      "0   12052-PUN  Female   33      No          Punjab                   11   \n",
      "1   12069-UTT  Female   30     Yes   Uttar Pradesh                   10   \n",
      "2   12079-MAH  Female   73     Yes     Maharashtra                    2   \n",
      "3   12112-MAD  Female   27      No  Madhya Pradesh                   14   \n",
      "4   12118-TAM  Female   23      No      Tamil Nadu                    7   \n",
      "\n",
      "   Tenure_in_Months Value_Deal Phone_Service Multiple_Lines  ...  \\\n",
      "0                31       None           Yes            Yes  ...   \n",
      "1                14     Deal 4           Yes             No  ...   \n",
      "2                 4       None           Yes             No  ...   \n",
      "3                 4     Deal 5           Yes             No  ...   \n",
      "4                 3     Deal 2           Yes            Yes  ...   \n",
      "\n",
      "    Payment_Method Monthly_Charge Total_Charges Total_Refunds  \\\n",
      "0  Bank Withdrawal     115.000000   7396.149902           0.0   \n",
      "1  Bank Withdrawal      59.650002    683.250000           0.0   \n",
      "2  Bank Withdrawal      79.900002    260.899994           0.0   \n",
      "3      Credit Card      20.450001    150.750000           0.0   \n",
      "4  Bank Withdrawal      85.550003   5084.649902           0.0   \n",
      "\n",
      "  Total_Extra_Data_Charges Total_Long_Distance_Charges Total_Revenue  \\\n",
      "0                        0                 2972.159912  10368.309570   \n",
      "1                        0                  232.539993    915.789978   \n",
      "2                        0                    8.940000    269.839996   \n",
      "3                        0                   40.880001    191.630005   \n",
      "4                        0                  407.690002   5492.339844   \n",
      "\n",
      "  Customer_Status Churn_Category                  Churn_Reason  \n",
      "0          Stayed         Others                        Others  \n",
      "1          Stayed         Others                        Others  \n",
      "2         Churned          Price                Price too high  \n",
      "3          Stayed         Others                        Others  \n",
      "4         Churned     Competitor  Competitor offered more data  \n",
      "\n",
      "[5 rows x 32 columns]\n"
     ]
    }
   ],
   "source": [
    "file_path = \"D:\\powerbi\\prediction_data.xlsx\"\n",
    "sheet_name = 'vw_ChurnData'\n",
    "data = pd.read_excel(file_path, sheet_name=sheet_name)\n",
    "print(data.head())"
   ]
  },
  {
   "cell_type": "code",
   "execution_count": 8,
   "id": "ef0c65b8",
   "metadata": {},
   "outputs": [],
   "source": [
    "data = data.drop(['Customer_ID', 'Churn_Category', 'Churn_Reason'], axis=1)\n",
    "columns_to_encode = [\n",
    "\n",
    "    'Gender', 'Married', 'State', 'Value_Deal', 'Phone_Service', 'Multiple_Lines',\n",
    "\n",
    "    'Internet_Service', 'Internet_Type', 'Online_Security', 'Online_Backup',\n",
    "\n",
    "    'Device_Protection_Plan', 'Premium_Support', 'Streaming_TV', 'Streaming_Movies',\n",
    "\n",
    "    'Streaming_Music', 'Unlimited_Data', 'Contract', 'Paperless_Billing',\n",
    "\n",
    "    'Payment_Method'\n",
    "\n",
    "]\n",
    "label_encoders = {}\n",
    "\n",
    "for column in columns_to_encode:\n",
    "\n",
    "    label_encoders[column] = LabelEncoder()\n",
    "\n",
    "    data[column] = label_encoders[column].fit_transform(data[column])\n",
    "\n",
    "data['Customer_Status'] = data['Customer_Status'].map({'Stayed': 0, 'Churned': 1})\n",
    "\n",
    "X = data.drop('Customer_Status', axis=1)\n",
    "\n",
    "y = data['Customer_Status']\n",
    "\n",
    "X_train, X_test, y_train, y_test = train_test_split(X, y, test_size=0.2, random_state=42)"
   ]
  },
  {
   "cell_type": "code",
   "execution_count": 9,
   "id": "e3f7c3a1",
   "metadata": {},
   "outputs": [
    {
     "data": {
      "text/html": [
       "<style>#sk-container-id-1 {color: black;}#sk-container-id-1 pre{padding: 0;}#sk-container-id-1 div.sk-toggleable {background-color: white;}#sk-container-id-1 label.sk-toggleable__label {cursor: pointer;display: block;width: 100%;margin-bottom: 0;padding: 0.3em;box-sizing: border-box;text-align: center;}#sk-container-id-1 label.sk-toggleable__label-arrow:before {content: \"▸\";float: left;margin-right: 0.25em;color: #696969;}#sk-container-id-1 label.sk-toggleable__label-arrow:hover:before {color: black;}#sk-container-id-1 div.sk-estimator:hover label.sk-toggleable__label-arrow:before {color: black;}#sk-container-id-1 div.sk-toggleable__content {max-height: 0;max-width: 0;overflow: hidden;text-align: left;background-color: #f0f8ff;}#sk-container-id-1 div.sk-toggleable__content pre {margin: 0.2em;color: black;border-radius: 0.25em;background-color: #f0f8ff;}#sk-container-id-1 input.sk-toggleable__control:checked~div.sk-toggleable__content {max-height: 200px;max-width: 100%;overflow: auto;}#sk-container-id-1 input.sk-toggleable__control:checked~label.sk-toggleable__label-arrow:before {content: \"▾\";}#sk-container-id-1 div.sk-estimator input.sk-toggleable__control:checked~label.sk-toggleable__label {background-color: #d4ebff;}#sk-container-id-1 div.sk-label input.sk-toggleable__control:checked~label.sk-toggleable__label {background-color: #d4ebff;}#sk-container-id-1 input.sk-hidden--visually {border: 0;clip: rect(1px 1px 1px 1px);clip: rect(1px, 1px, 1px, 1px);height: 1px;margin: -1px;overflow: hidden;padding: 0;position: absolute;width: 1px;}#sk-container-id-1 div.sk-estimator {font-family: monospace;background-color: #f0f8ff;border: 1px dotted black;border-radius: 0.25em;box-sizing: border-box;margin-bottom: 0.5em;}#sk-container-id-1 div.sk-estimator:hover {background-color: #d4ebff;}#sk-container-id-1 div.sk-parallel-item::after {content: \"\";width: 100%;border-bottom: 1px solid gray;flex-grow: 1;}#sk-container-id-1 div.sk-label:hover label.sk-toggleable__label {background-color: #d4ebff;}#sk-container-id-1 div.sk-serial::before {content: \"\";position: absolute;border-left: 1px solid gray;box-sizing: border-box;top: 0;bottom: 0;left: 50%;z-index: 0;}#sk-container-id-1 div.sk-serial {display: flex;flex-direction: column;align-items: center;background-color: white;padding-right: 0.2em;padding-left: 0.2em;position: relative;}#sk-container-id-1 div.sk-item {position: relative;z-index: 1;}#sk-container-id-1 div.sk-parallel {display: flex;align-items: stretch;justify-content: center;background-color: white;position: relative;}#sk-container-id-1 div.sk-item::before, #sk-container-id-1 div.sk-parallel-item::before {content: \"\";position: absolute;border-left: 1px solid gray;box-sizing: border-box;top: 0;bottom: 0;left: 50%;z-index: -1;}#sk-container-id-1 div.sk-parallel-item {display: flex;flex-direction: column;z-index: 1;position: relative;background-color: white;}#sk-container-id-1 div.sk-parallel-item:first-child::after {align-self: flex-end;width: 50%;}#sk-container-id-1 div.sk-parallel-item:last-child::after {align-self: flex-start;width: 50%;}#sk-container-id-1 div.sk-parallel-item:only-child::after {width: 0;}#sk-container-id-1 div.sk-dashed-wrapped {border: 1px dashed gray;margin: 0 0.4em 0.5em 0.4em;box-sizing: border-box;padding-bottom: 0.4em;background-color: white;}#sk-container-id-1 div.sk-label label {font-family: monospace;font-weight: bold;display: inline-block;line-height: 1.2em;}#sk-container-id-1 div.sk-label-container {text-align: center;}#sk-container-id-1 div.sk-container {/* jupyter's `normalize.less` sets `[hidden] { display: none; }` but bootstrap.min.css set `[hidden] { display: none !important; }` so we also need the `!important` here to be able to override the default hidden behavior on the sphinx rendered scikit-learn.org. See: https://github.com/scikit-learn/scikit-learn/issues/21755 */display: inline-block !important;position: relative;}#sk-container-id-1 div.sk-text-repr-fallback {display: none;}</style><div id=\"sk-container-id-1\" class=\"sk-top-container\"><div class=\"sk-text-repr-fallback\"><pre>RandomForestClassifier(random_state=42)</pre><b>In a Jupyter environment, please rerun this cell to show the HTML representation or trust the notebook. <br />On GitHub, the HTML representation is unable to render, please try loading this page with nbviewer.org.</b></div><div class=\"sk-container\" hidden><div class=\"sk-item\"><div class=\"sk-estimator sk-toggleable\"><input class=\"sk-toggleable__control sk-hidden--visually\" id=\"sk-estimator-id-1\" type=\"checkbox\" checked><label for=\"sk-estimator-id-1\" class=\"sk-toggleable__label sk-toggleable__label-arrow\">RandomForestClassifier</label><div class=\"sk-toggleable__content\"><pre>RandomForestClassifier(random_state=42)</pre></div></div></div></div></div>"
      ],
      "text/plain": [
       "RandomForestClassifier(random_state=42)"
      ]
     },
     "execution_count": 9,
     "metadata": {},
     "output_type": "execute_result"
    }
   ],
   "source": [
    "rf_model = RandomForestClassifier(n_estimators=100, random_state=42)\n",
    "\n",
    "rf_model.fit(X_train, y_train)"
   ]
  },
  {
   "cell_type": "code",
   "execution_count": 10,
   "id": "15f924bf",
   "metadata": {},
   "outputs": [
    {
     "name": "stdout",
     "output_type": "stream",
     "text": [
      "Confusion Matrix:\n",
      "[[800  40]\n",
      " [136 226]]\n",
      "\n",
      "Classification Report:\n",
      "              precision    recall  f1-score   support\n",
      "\n",
      "           0       0.85      0.95      0.90       840\n",
      "           1       0.85      0.62      0.72       362\n",
      "\n",
      "    accuracy                           0.85      1202\n",
      "   macro avg       0.85      0.79      0.81      1202\n",
      "weighted avg       0.85      0.85      0.85      1202\n",
      "\n"
     ]
    },
    {
     "data": {
      "image/png": "[encoded data removed]",
      "text/plain": [
       "<Figure size 1080x432 with 1 Axes>"
      ]
     },
     "metadata": {
      "needs_background": "light"
     },
     "output_type": "display_data"
    }
   ],
   "source": [
    "y_pred = rf_model.predict(X_test)\n",
    "\n",
    "print(\"Confusion Matrix:\")\n",
    "\n",
    "print(confusion_matrix(y_test, y_pred))\n",
    "\n",
    "print(\"\\nClassification Report:\")\n",
    "\n",
    "print(classification_report(y_test, y_pred))\n",
    "\n",
    " \n",
    "importances = rf_model.feature_importances_\n",
    "\n",
    "indices = np.argsort(importances)[::-1]\n",
    "\n",
    " \n",
    "plt.figure(figsize=(15, 6))\n",
    "\n",
    "sns.barplot(x=importances[indices], y=X.columns[indices])\n",
    "\n",
    "plt.title('Feature Importances')\n",
    "\n",
    "plt.xlabel('Relative Importance')\n",
    "\n",
    "plt.ylabel('Feature Names')\n",
    "\n",
    "plt.show()"
   ]
  },
  {
   "cell_type": "code",
   "execution_count": 11,
   "id": "b683ea8c",
   "metadata": {},
   "outputs": [
    {
     "name": "stdout",
     "output_type": "stream",
     "text": [
      "  Customer_ID  Gender  Age Married          State  Number_of_Referrals  \\\n",
      "0   12056-WES    Male   27      No    West Bengal                    2   \n",
      "1   12136-RAJ  Female   25     Yes      Rajasthan                    2   \n",
      "2   12257-ASS  Female   39      No          Assam                    9   \n",
      "3   15349-UTT    Male   47     Yes  Uttar Pradesh                    9   \n",
      "4   21956-JHA  Female   59     Yes      Jharkhand                   10   \n",
      "\n",
      "   Tenure_in_Months Value_Deal Phone_Service Multiple_Lines  ...  \\\n",
      "0                20       None           Yes             No  ...   \n",
      "1                35       None           Yes             No  ...   \n",
      "2                 1       None           Yes             No  ...   \n",
      "3                12     Deal 5           Yes            Yes  ...   \n",
      "4                 8       None           Yes             No  ...   \n",
      "\n",
      "    Payment_Method Monthly_Charge Total_Charges Total_Refunds  \\\n",
      "0  Bank Withdrawal      90.400002    268.450012           0.0   \n",
      "1  Bank Withdrawal      19.900000     19.900000           0.0   \n",
      "2      Credit Card      19.549999     19.549999           0.0   \n",
      "3  Bank Withdrawal      50.150002     50.150002           0.0   \n",
      "4      Credit Card      82.300003    214.399994           0.0   \n",
      "\n",
      "  Total_Extra_Data_Charges Total_Long_Distance_Charges Total_Revenue  \\\n",
      "0                        0                   94.440002    362.890015   \n",
      "1                        0                   11.830000     31.730000   \n",
      "2                        0                   10.200000     29.750000   \n",
      "3                        0                   39.869999     90.019997   \n",
      "4                       20                  134.910004    369.309998   \n",
      "\n",
      "  Customer_Status Churn_Category Churn_Reason  \n",
      "0          Joined         Others       Others  \n",
      "1          Joined         Others       Others  \n",
      "2          Joined         Others       Others  \n",
      "3          Joined         Others       Others  \n",
      "4          Joined         Others       Others  \n",
      "\n",
      "[5 rows x 32 columns]\n"
     ]
    }
   ],
   "source": [
    "# Define the path to the Joiner Data Excel file\n",
    "file_path = \"D:\\powerbi\\prediction_data.xlsx\"\n",
    "\n",
    "# Define the sheet name to read data from\n",
    "sheet_name = 'vw_JoinData'\n",
    "\n",
    "# Read the data from the specified sheet into a pandas DataFrame\n",
    "new_data = pd.read_excel(file_path, sheet_name=sheet_name)\n",
    "\n",
    "# Display the first few rows of the fetched data\n",
    "print(new_data.head())\n",
    "\n",
    "# Retain the original DataFrame to preserve unencoded columns\n",
    "original_data = new_data.copy()\n",
    "\n",
    "# Retain the Customer_ID column\n",
    "customer_ids = new_data['Customer_ID']\n",
    "\n",
    "# Drop columns that won't be used for prediction in the encoded DataFrame\n",
    "new_data = new_data.drop(['Customer_ID', 'Customer_Status', 'Churn_Category', 'Churn_Reason'], axis=1)\n",
    "\n",
    "# Encode categorical variables using the saved label encoders\n",
    "for column in new_data.select_dtypes(include=['object']).columns:\n",
    "    new_data[column] = label_encoders[column].transform(new_data[column])\n",
    "\n",
    "# Make predictions\n",
    "new_predictions = rf_model.predict(new_data)\n",
    "\n",
    "# Add predictions to the original DataFrame\n",
    "original_data['Customer_Status_Predicted'] = new_predictions\n",
    "\n",
    "# Filter the DataFrame to include only records predicted as \"Churned\"\n",
    "original_data = original_data[original_data['Customer_Status_Predicted'] == 1]\n",
    "\n",
    "# Save the results\n",
    "original_data.to_csv(r\"D:\\powerbi\\Prediction.csv\", index=False)"
   ]
  },
  {
   "cell_type": "code",
   "execution_count": null,
   "id": "a804ac10",
   "metadata": {},
   "outputs": [],
   "source": []
  }
 ],
 "metadata": {
  "kernelspec": {
   "display_name": "Python 3 (ipykernel)",
   "language": "python",
   "name": "python3"
  },
  "language_info": {
   "codemirror_mode": {
    "name": "ipython",
    "version": 3
   },
   "file_extension": ".py",
   "mimetype": "text/x-python",
   "name": "python",
   "nbconvert_exporter": "python",
   "pygments_lexer": "ipython3",
   "version": "3.9.12"
  }
 },
 "nbformat": 4,
 "nbformat_minor": 5
}
